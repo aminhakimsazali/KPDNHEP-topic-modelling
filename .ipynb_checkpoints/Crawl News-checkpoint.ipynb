{
 "cells": [
  {
   "cell_type": "markdown",
   "metadata": {},
   "source": [
    "### Crawling"
   ]
  },
  {
   "cell_type": "code",
   "execution_count": 1,
   "metadata": {},
   "outputs": [
    {
     "name": "stderr",
     "output_type": "stream",
     "text": [
      "2021-09-18 22:29:26,971 - INFO - NumExpr defaulting to 4 threads.\n",
      "C:\\Users\\AH\\anaconda3\\lib\\site-packages\\ipykernel_launcher.py:8: FutureWarning: Passing a negative integer is deprecated in version 1.0 and will not be supported in future version. Instead, use None to not limit the column width.\n",
      "  \n"
     ]
    }
   ],
   "source": [
    "from core import google_news_run\n",
    "import json\n",
    "import os\n",
    "import logging\n",
    "import pandas as pd\n",
    "pd.set_option('display.max_rows', 500)\n",
    "pd.set_option('display.max_columns', 500)\n",
    "pd.set_option('display.max_colwidth', -1)\n",
    "\n",
    "logging.basicConfig(\n",
    "    level = logging.ERROR\n",
    ")\n",
    "\n",
    "import glob"
   ]
  },
  {
   "cell_type": "code",
   "execution_count": 2,
   "metadata": {
    "scrolled": true
   },
   "outputs": [
    {
     "data": {
      "text/plain": [
       "DatetimeIndex(['2021-01-01', '2021-01-15', '2021-01-29', '2021-02-12',\n",
       "               '2021-02-26', '2021-03-12', '2021-03-26', '2021-04-09',\n",
       "               '2021-04-23', '2021-05-07', '2021-05-21', '2021-06-04',\n",
       "               '2021-06-18', '2021-07-02', '2021-07-16', '2021-07-30',\n",
       "               '2021-08-13', '2021-08-27', '2021-09-10'],\n",
       "              dtype='datetime64[ns]', freq='14D')"
      ]
     },
     "execution_count": 2,
     "metadata": {},
     "output_type": "execute_result"
    }
   ],
   "source": [
    "dates_range = pd.date_range(start=\"2021-01-01\", end=\"2021-09-18\",  freq=\"14D\")\n",
    "dates_range"
   ]
  },
  {
   "cell_type": "code",
   "execution_count": null,
   "metadata": {},
   "outputs": [],
   "source": [
    "%%time\n",
    "\n",
    "for dayCount in range(len(dates_range)):\n",
    "\n",
    "    print(\"-----------------------------Working on \",dates_range[dayCount].strftime('%Y-%m-%d'))\n",
    "    results = google_news_run(\n",
    "            \"kpdnhep\",\n",
    "            limit = 100,\n",
    "#             date_start = \"2021-06-01\", #YYYY-MM-DD\n",
    "#             date_end = \"2021-05-01\", #YYYY-MM-DD\n",
    "            date_start = dates_range[dayCount].strftime(\"%Y-%m-%d\"), \n",
    "            date_end = dates_range[dayCount+1].strftime(\"%Y-%m-%d\"), \n",
    "            debug = True,\n",
    "            sleep_time_every_ten_articles = 0\n",
    "        )\n",
    "    filename = os.path.join(\"data\", f\"{dates_range[dayCount].strftime('%Y-%m-%d')}_data.crawl\")\n",
    "    with open(filename, 'w') as fopen:\n",
    "        fopen.write(json.dumps(results))"
   ]
  },
  {
   "cell_type": "code",
   "execution_count": null,
   "metadata": {},
   "outputs": [],
   "source": [
    "total = 0\n",
    "allDF = pd.DataFrame()\n",
    "for file in glob.glob(\"data/*.crawl\"):\n",
    "    with open(file) as f:\n",
    "        data = json.load(f)\n",
    "        df = pd.DataFrame(data)\n",
    "        allDF = allDF.append(df)\n",
    "        print(file, len(df))\n",
    "        total+= len(df)\n",
    "        \n",
    "print(\"Total: \", total)        "
   ]
  },
  {
   "cell_type": "code",
   "execution_count": null,
   "metadata": {},
   "outputs": [],
   "source": [
    "allDF.reset_index(drop=True, inplace = True)"
   ]
  },
  {
   "cell_type": "code",
   "execution_count": null,
   "metadata": {},
   "outputs": [],
   "source": [
    "allDF.info()"
   ]
  },
  {
   "cell_type": "code",
   "execution_count": null,
   "metadata": {},
   "outputs": [],
   "source": []
  },
  {
   "cell_type": "code",
   "execution_count": null,
   "metadata": {},
   "outputs": [],
   "source": []
  }
 ],
 "metadata": {
  "kernelspec": {
   "display_name": "Python 3 (ipykernel)",
   "language": "python",
   "name": "python3"
  },
  "language_info": {
   "codemirror_mode": {
    "name": "ipython",
    "version": 3
   },
   "file_extension": ".py",
   "mimetype": "text/x-python",
   "name": "python",
   "nbconvert_exporter": "python",
   "pygments_lexer": "ipython3",
   "version": "3.7.11"
  }
 },
 "nbformat": 4,
 "nbformat_minor": 4
}

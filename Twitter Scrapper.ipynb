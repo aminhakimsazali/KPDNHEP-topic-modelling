{
 "cells": [
  {
   "cell_type": "code",
   "execution_count": 9,
   "metadata": {},
   "outputs": [],
   "source": [
    "from newspaper import Article"
   ]
  },
  {
   "cell_type": "code",
   "execution_count": 33,
   "metadata": {},
   "outputs": [],
   "source": [
    "url = \"https://www.astroawani.com/berita-malaysia/isu-harga-ayam-naik-kpdnhep-periksa-62-premis-pembekal-peruncit-320175c\"\n",
    "url = \"https://www.hmetro.com.my/mutakhir/2021/03/682284/sita-78485-kilogram-baja-kawalan-tanpa-lesen\"\n",
    "url = 'https://m.malaysiakini.com/news/582300'\n",
    "url = \"https://www.freemalaysiatoday.com/category/bahasa/tempatan/2021/09/14/kempen-harga-ayam-dituduh-berat-sebelah-kpdnhep-padam-catatan-di-facebook/\""
   ]
  },
  {
   "cell_type": "code",
   "execution_count": 34,
   "metadata": {},
   "outputs": [],
   "source": [
    "article = Article(url)\n",
    "article.download()\n",
    "article.parse()\n",
    "article.nlp()"
   ]
  },
  {
   "cell_type": "code",
   "execution_count": 35,
   "metadata": {},
   "outputs": [
    {
     "data": {
      "text/plain": [
       "{'title': 'Kempen harga ayam dituduh ‘berat sebelah’, KPDNHEP padam catatan di Facebook',\n",
       " 'authors': ['Yasmin Abdul Latif'],\n",
       " 'top-image': 'https://s3media.freemalaysiatoday.com/wp-content/uploads/2021/09/KPDNHEP-di-laman-Facebook-kempen-FB.jpg',\n",
       " 'text': '',\n",
       " 'keyword': ['kempen',\n",
       "  'kpdnhep',\n",
       "  'facebook',\n",
       "  'di',\n",
       "  'harga',\n",
       "  'dituduh',\n",
       "  'padam',\n",
       "  'berat',\n",
       "  'sebelah',\n",
       "  'catatan'],\n",
       " 'summary': ''}"
      ]
     },
     "execution_count": 35,
     "metadata": {},
     "output_type": "execute_result"
    }
   ],
   "source": [
    "{'title': article.title,\n",
    "'authors': article.authors,\n",
    "'top-image': article.top_image,\n",
    "'text': article.text,\n",
    "'keyword': article.keywords,\n",
    "'summary': article.summary,}"
   ]
  },
  {
   "cell_type": "code",
   "execution_count": 8,
   "metadata": {},
   "outputs": [
    {
     "ename": "AttributeError",
     "evalue": "module 'snscrape.modules.twitter' has no attribute 'version'",
     "output_type": "error",
     "traceback": [
      "\u001b[1;31m---------------------------------------------------------------------------\u001b[0m",
      "\u001b[1;31mAttributeError\u001b[0m                            Traceback (most recent call last)",
      "\u001b[1;32m~\\AppData\\Local\\Temp/ipykernel_18920/3362718760.py\u001b[0m in \u001b[0;36m<module>\u001b[1;34m\u001b[0m\n\u001b[0;32m      1\u001b[0m \u001b[1;32mimport\u001b[0m \u001b[0msnscrape\u001b[0m\u001b[1;33m\u001b[0m\u001b[1;33m\u001b[0m\u001b[0m\n\u001b[1;32m----> 2\u001b[1;33m \u001b[0msntwitter\u001b[0m\u001b[1;33m.\u001b[0m\u001b[0mversion\u001b[0m\u001b[1;33m\u001b[0m\u001b[1;33m\u001b[0m\u001b[0m\n\u001b[0m",
      "\u001b[1;31mAttributeError\u001b[0m: module 'snscrape.modules.twitter' has no attribute 'version'"
     ]
    }
   ],
   "source": [
    "import snscrape\n",
    "sntwitter."
   ]
  },
  {
   "cell_type": "code",
   "execution_count": 1,
   "metadata": {},
   "outputs": [],
   "source": [
    "# Imports\n",
    "import snscrape.modules.twitter as sntwitter\n",
    "import pandas as pd\n",
    "import tweepy\n",
    "import pickle\n",
    "import os\n",
    "import numpy as np\n",
    "import json\n",
    "import glob\n",
    "import re\n",
    "import datetime as dt\n",
    "\n",
    "pd.set_option('display.max_rows', 500)\n",
    "pd.set_option('display.max_colwidth', None)"
   ]
  },
  {
   "cell_type": "markdown",
   "metadata": {},
   "source": [
    "### Twitter Data Collection"
   ]
  },
  {
   "cell_type": "code",
   "execution_count": 2,
   "metadata": {},
   "outputs": [
    {
     "data": {
      "text/html": [
       "<div>\n",
       "<style scoped>\n",
       "    .dataframe tbody tr th:only-of-type {\n",
       "        vertical-align: middle;\n",
       "    }\n",
       "\n",
       "    .dataframe tbody tr th {\n",
       "        vertical-align: top;\n",
       "    }\n",
       "\n",
       "    .dataframe thead th {\n",
       "        text-align: right;\n",
       "    }\n",
       "</style>\n",
       "<table border=\"1\" class=\"dataframe\">\n",
       "  <thead>\n",
       "    <tr style=\"text-align: right;\">\n",
       "      <th></th>\n",
       "      <th>Datetime</th>\n",
       "      <th>Tweet Id</th>\n",
       "      <th>Text</th>\n",
       "      <th>Username</th>\n",
       "    </tr>\n",
       "  </thead>\n",
       "  <tbody>\n",
       "    <tr>\n",
       "      <th>0</th>\n",
       "      <td>2022-03-02 16:49:05+00:00</td>\n",
       "      <td>1499064258025639937</td>\n",
       "      <td>กำลังจะกดเข้าคอมมูออลพระเอก ละเห็นเซ็นคู นุถึง...</td>\n",
       "      <td>Aiyaaa_703</td>\n",
       "    </tr>\n",
       "    <tr>\n",
       "      <th>1</th>\n",
       "      <td>2022-03-02 16:40:10+00:00</td>\n",
       "      <td>1499062014316277760</td>\n",
       "      <td>Anitha, kuttipuduven. Pesaama odipoiru. Aiya P...</td>\n",
       "      <td>suplattamau</td>\n",
       "    </tr>\n",
       "    <tr>\n",
       "      <th>2</th>\n",
       "      <td>2022-03-02 15:56:20+00:00</td>\n",
       "      <td>1499050986530226177</td>\n",
       "      <td>@shak_shukaa Aiyaaa 😭</td>\n",
       "      <td>wackyguacamole</td>\n",
       "    </tr>\n",
       "    <tr>\n",
       "      <th>3</th>\n",
       "      <td>2022-03-02 15:40:15+00:00</td>\n",
       "      <td>1499046937664061442</td>\n",
       "      <td>aiyaaa gbs internetan juga t___t https://t.co/...</td>\n",
       "      <td>yoittblue</td>\n",
       "    </tr>\n",
       "    <tr>\n",
       "      <th>4</th>\n",
       "      <td>2022-03-02 14:53:45+00:00</td>\n",
       "      <td>1499035233777164290</td>\n",
       "      <td>@ZainAzraiTweets aiyaaa stay safe man!</td>\n",
       "      <td>AshraffMokhtar</td>\n",
       "    </tr>\n",
       "  </tbody>\n",
       "</table>\n",
       "</div>"
      ],
      "text/plain": [
       "                   Datetime             Tweet Id  \\\n",
       "0 2022-03-02 16:49:05+00:00  1499064258025639937   \n",
       "1 2022-03-02 16:40:10+00:00  1499062014316277760   \n",
       "2 2022-03-02 15:56:20+00:00  1499050986530226177   \n",
       "3 2022-03-02 15:40:15+00:00  1499046937664061442   \n",
       "4 2022-03-02 14:53:45+00:00  1499035233777164290   \n",
       "\n",
       "                                                Text        Username  \n",
       "0  กำลังจะกดเข้าคอมมูออลพระเอก ละเห็นเซ็นคู นุถึง...      Aiyaaa_703  \n",
       "1  Anitha, kuttipuduven. Pesaama odipoiru. Aiya P...     suplattamau  \n",
       "2                              @shak_shukaa Aiyaaa 😭  wackyguacamole  \n",
       "3  aiyaaa gbs internetan juga t___t https://t.co/...       yoittblue  \n",
       "4             @ZainAzraiTweets aiyaaa stay safe man!  AshraffMokhtar  "
      ]
     },
     "execution_count": 2,
     "metadata": {},
     "output_type": "execute_result"
    }
   ],
   "source": [
    "import snscrape.modules.twitter as sntwitter\n",
    "import pandas as pd\n",
    "# Setting variables to be used below\n",
    "maxTweets = 100\n",
    "\n",
    "# Creating list to append tweet data to\n",
    "tweets_list1 = []\n",
    "\n",
    "# Using TwitterSearchScraper to scrape data and append tweets to list\n",
    "for i,tweet in enumerate(sntwitter.TwitterSearchScraper('aiyaaa').get_items()):\n",
    "#     print(tweet)\n",
    "    if i>maxTweets:\n",
    "        break\n",
    "    tweets_list1.append([tweet.date, tweet.id, tweet.content, tweet.user.username])\n",
    "\n",
    "# Creating a dataframe from the tweets list above\n",
    "tweets_df1 = pd.DataFrame(tweets_list1, columns=['Datetime', 'Tweet Id', 'Text', 'Username'])\n",
    "\n",
    "# Display first 5 entries from dataframe\n",
    "tweets_df1.head()"
   ]
  },
  {
   "cell_type": "code",
   "execution_count": 6,
   "metadata": {},
   "outputs": [],
   "source": [
    "usernames = [\"@labuan_kpdnhep\", \"@KpdnhepM\", \"@KPDNHEPPerak\", \"@KPDNHEPKelantan\", \"@kedah_mykpdnkk\", \"@penang_mykpdnkk\", \"@KpdnhepPP\", \"@kpdnhep_sabah\", \"@KpdnhepJ\", \"@kpdnhepjohor\", \"@kppmkpdnkk\", \"@kpdnheptrg\", \"@kps_mykpdnhep\", \"@KPDNHEPPerak\", \"@Nforceteam1\", \"@KpdnhepK\", \"@labuan_kpdnhep\", \"@kpdnhepsabah\", \"@negeri_mykpdnkk\", \"@pahang_mykpdnkk\", \"@labuan_mykpdnkk\", ]\n",
    "usernames = [\"@kpdnhep\"]"
   ]
  },
  {
   "cell_type": "code",
   "execution_count": 8,
   "metadata": {},
   "outputs": [
    {
     "name": "stdout",
     "output_type": "stream",
     "text": [
      "Looking in indexes: https://pypi.org/simple, https://pypi.ngc.nvidia.com"
     ]
    },
    {
     "name": "stderr",
     "output_type": "stream",
     "text": [
      "WARNING: Ignoring invalid distribution -umpy (c:\\users\\ah\\anaconda3\\lib\\site-packages)\n",
      "WARNING: Ignoring invalid distribution -ffi (c:\\users\\ah\\anaconda3\\lib\\site-packages)\n",
      "WARNING: Ignoring invalid distribution -umpy (c:\\users\\ah\\anaconda3\\lib\\site-packages)\n",
      "WARNING: Ignoring invalid distribution -ffi (c:\\users\\ah\\anaconda3\\lib\\site-packages)\n",
      "WARNING: Ignoring invalid distribution -umpy (c:\\users\\ah\\anaconda3\\lib\\site-packages)\n",
      "WARNING: Ignoring invalid distribution -ffi (c:\\users\\ah\\anaconda3\\lib\\site-packages)\n",
      "WARNING: Ignoring invalid distribution -umpy (c:\\users\\ah\\anaconda3\\lib\\site-packages)\n",
      "WARNING: Ignoring invalid distribution -ffi (c:\\users\\ah\\anaconda3\\lib\\site-packages)\n",
      "WARNING: Ignoring invalid distribution -umpy (c:\\users\\ah\\anaconda3\\lib\\site-packages)\n",
      "WARNING: Ignoring invalid distribution -ffi (c:\\users\\ah\\anaconda3\\lib\\site-packages)\n",
      "WARNING: Ignoring invalid distribution -umpy (c:\\users\\ah\\anaconda3\\lib\\site-packages)\n",
      "WARNING: Ignoring invalid distribution -ffi (c:\\users\\ah\\anaconda3\\lib\\site-packages)\n"
     ]
    },
    {
     "name": "stdout",
     "output_type": "stream",
     "text": [
      "\n",
      "Requirement already satisfied: snscrape in c:\\users\\ah\\anaconda3\\lib\\site-packages (0.3.4)\n",
      "Requirement already satisfied: requests[socks] in c:\\users\\ah\\anaconda3\\lib\\site-packages (from snscrape) (2.26.0)\n",
      "Requirement already satisfied: lxml in c:\\users\\ah\\anaconda3\\lib\\site-packages (from snscrape) (4.6.3)\n",
      "Requirement already satisfied: beautifulsoup4 in c:\\users\\ah\\anaconda3\\lib\\site-packages (from snscrape) (4.9.3)\n",
      "Requirement already satisfied: soupsieve>1.2 in c:\\users\\ah\\anaconda3\\lib\\site-packages (from beautifulsoup4->snscrape) (2.2.1)\n",
      "Requirement already satisfied: certifi>=2017.4.17 in c:\\users\\ah\\anaconda3\\lib\\site-packages (from requests[socks]->snscrape) (2021.10.8)\n",
      "Requirement already satisfied: idna<4,>=2.5 in c:\\users\\ah\\anaconda3\\lib\\site-packages (from requests[socks]->snscrape) (3.2)\n",
      "Requirement already satisfied: urllib3<1.27,>=1.21.1 in c:\\users\\ah\\anaconda3\\lib\\site-packages (from requests[socks]->snscrape) (1.26.6)\n",
      "Requirement already satisfied: charset-normalizer~=2.0.0 in c:\\users\\ah\\anaconda3\\lib\\site-packages (from requests[socks]->snscrape) (2.0.4)\n",
      "Requirement already satisfied: PySocks!=1.5.7,>=1.5.6 in c:\\users\\ah\\anaconda3\\lib\\site-packages (from requests[socks]->snscrape) (1.7.1)\n"
     ]
    }
   ],
   "source": [
    "!pip3 install snscrape --upgrade"
   ]
  },
  {
   "cell_type": "code",
   "execution_count": 9,
   "metadata": {
    "scrolled": true
   },
   "outputs": [
    {
     "name": "stdout",
     "output_type": "stream",
     "text": [
      "0\n",
      "@kpdnhep since:2020-01-01 until:2020-01-15\n"
     ]
    },
    {
     "ename": "ScraperException",
     "evalue": "Unable to find guest token",
     "output_type": "error",
     "traceback": [
      "\u001b[1;31m---------------------------------------------------------------------------\u001b[0m",
      "\u001b[1;31mScraperException\u001b[0m                          Traceback (most recent call last)",
      "\u001b[1;32m<timed exec>\u001b[0m in \u001b[0;36m<module>\u001b[1;34m\u001b[0m\n",
      "\u001b[1;32m~\\anaconda3\\lib\\site-packages\\snscrape\\modules\\twitter.py\u001b[0m in \u001b[0;36mget_items\u001b[1;34m(self)\u001b[0m\n\u001b[0;32m    129\u001b[0m                 \u001b[1;32mwhile\u001b[0m \u001b[1;32mTrue\u001b[0m\u001b[1;33m:\u001b[0m\u001b[1;33m\u001b[0m\u001b[1;33m\u001b[0m\u001b[0m\n\u001b[0;32m    130\u001b[0m                         \u001b[1;32mif\u001b[0m \u001b[1;32mnot\u001b[0m \u001b[0mguestToken\u001b[0m\u001b[1;33m:\u001b[0m\u001b[1;33m\u001b[0m\u001b[1;33m\u001b[0m\u001b[0m\n\u001b[1;32m--> 131\u001b[1;33m                                 \u001b[0mguestToken\u001b[0m \u001b[1;33m=\u001b[0m \u001b[0mself\u001b[0m\u001b[1;33m.\u001b[0m\u001b[0m_get_guest_token\u001b[0m\u001b[1;33m(\u001b[0m\u001b[1;33m)\u001b[0m\u001b[1;33m\u001b[0m\u001b[1;33m\u001b[0m\u001b[0m\n\u001b[0m\u001b[0;32m    132\u001b[0m                                 \u001b[0mself\u001b[0m\u001b[1;33m.\u001b[0m\u001b[0m_session\u001b[0m\u001b[1;33m.\u001b[0m\u001b[0mcookies\u001b[0m\u001b[1;33m.\u001b[0m\u001b[0mset\u001b[0m\u001b[1;33m(\u001b[0m\u001b[1;34m'gt'\u001b[0m\u001b[1;33m,\u001b[0m \u001b[0mguestToken\u001b[0m\u001b[1;33m,\u001b[0m \u001b[0mdomain\u001b[0m \u001b[1;33m=\u001b[0m \u001b[1;34m'.twitter.com'\u001b[0m\u001b[1;33m,\u001b[0m \u001b[0mpath\u001b[0m \u001b[1;33m=\u001b[0m \u001b[1;34m'/'\u001b[0m\u001b[1;33m,\u001b[0m \u001b[0msecure\u001b[0m \u001b[1;33m=\u001b[0m \u001b[1;32mTrue\u001b[0m\u001b[1;33m,\u001b[0m \u001b[0mexpires\u001b[0m \u001b[1;33m=\u001b[0m \u001b[0mtime\u001b[0m\u001b[1;33m.\u001b[0m\u001b[0mtime\u001b[0m\u001b[1;33m(\u001b[0m\u001b[1;33m)\u001b[0m \u001b[1;33m+\u001b[0m \u001b[1;36m10800\u001b[0m\u001b[1;33m)\u001b[0m\u001b[1;33m\u001b[0m\u001b[1;33m\u001b[0m\u001b[0m\n\u001b[0;32m    133\u001b[0m                                 \u001b[0mheaders\u001b[0m\u001b[1;33m[\u001b[0m\u001b[1;34m'x-guest-token'\u001b[0m\u001b[1;33m]\u001b[0m \u001b[1;33m=\u001b[0m \u001b[0mguestToken\u001b[0m\u001b[1;33m\u001b[0m\u001b[1;33m\u001b[0m\u001b[0m\n",
      "\u001b[1;32m~\\anaconda3\\lib\\site-packages\\snscrape\\modules\\twitter.py\u001b[0m in \u001b[0;36m_get_guest_token\u001b[1;34m(self)\u001b[0m\n\u001b[0;32m    107\u001b[0m                         \u001b[0mlogger\u001b[0m\u001b[1;33m.\u001b[0m\u001b[0mdebug\u001b[0m\u001b[1;33m(\u001b[0m\u001b[1;34m'Found guest token in cookies'\u001b[0m\u001b[1;33m)\u001b[0m\u001b[1;33m\u001b[0m\u001b[1;33m\u001b[0m\u001b[0m\n\u001b[0;32m    108\u001b[0m                         \u001b[1;32mreturn\u001b[0m \u001b[0mr\u001b[0m\u001b[1;33m.\u001b[0m\u001b[0mcookies\u001b[0m\u001b[1;33m[\u001b[0m\u001b[1;34m'gt'\u001b[0m\u001b[1;33m]\u001b[0m\u001b[1;33m\u001b[0m\u001b[1;33m\u001b[0m\u001b[0m\n\u001b[1;32m--> 109\u001b[1;33m                 \u001b[1;32mraise\u001b[0m \u001b[0msnscrape\u001b[0m\u001b[1;33m.\u001b[0m\u001b[0mbase\u001b[0m\u001b[1;33m.\u001b[0m\u001b[0mScraperException\u001b[0m\u001b[1;33m(\u001b[0m\u001b[1;34m'Unable to find guest token'\u001b[0m\u001b[1;33m)\u001b[0m\u001b[1;33m\u001b[0m\u001b[1;33m\u001b[0m\u001b[0m\n\u001b[0m\u001b[0;32m    110\u001b[0m \u001b[1;33m\u001b[0m\u001b[0m\n\u001b[0;32m    111\u001b[0m         \u001b[1;32mdef\u001b[0m \u001b[0m_check_scroll_response\u001b[0m\u001b[1;33m(\u001b[0m\u001b[0mself\u001b[0m\u001b[1;33m,\u001b[0m \u001b[0mr\u001b[0m\u001b[1;33m)\u001b[0m\u001b[1;33m:\u001b[0m\u001b[1;33m\u001b[0m\u001b[1;33m\u001b[0m\u001b[0m\n",
      "\u001b[1;31mScraperException\u001b[0m: Unable to find guest token"
     ]
    }
   ],
   "source": [
    "%%time\n",
    "#Collect 1k tweets everyday for each topic\n",
    "# dates_range = pd.date_range(start=\"2021-01-01\", end=\"2021-09-17\",  freq=\"14D\")\n",
    "dates_range = pd.date_range(start=\"2020-01-01\", end=\"2021-01-01\",  freq=\"14D\")\n",
    "maxTweets = 1000\n",
    "\n",
    "for dayCount in range(len(dates_range)):\n",
    "#     if dayCount < 18:\n",
    "#         continue\n",
    "    print(dayCount)\n",
    "    for user in usernames:\n",
    "        if dayCount == len(dates_range) - 1:\n",
    "            q = f\"{user} since:{dates_range[dayCount].strftime('%Y-%m-%d')} until:{dt.datetime.now().strftime('%Y-%m-%d')}\"\n",
    "        else:\n",
    "            q = f\"{user} since:{dates_range[dayCount].strftime('%Y-%m-%d')} until:{dates_range[dayCount+1].strftime('%Y-%m-%d')}\"\n",
    "        print(q)\n",
    "        tweets = []\n",
    "        for i,tweet in enumerate(sntwitter.TwitterSearchScraper(q).get_items()) :\n",
    "                if i > maxTweets :\n",
    "                    break\n",
    "                username = tweet.username\n",
    "                text = tweet.content\n",
    "                pubdate = tweet.date\n",
    "                permalink = tweet.url\n",
    "\n",
    "    #             print(username, text, pubdate, permalink)\n",
    "\n",
    "                tweets.append({\n",
    "                    \"permalink\":permalink,\n",
    "                    \"pubdate\":pubdate,\n",
    "                    \"text\":text,\n",
    "                    \"username\":username,\n",
    "                })    \n",
    "\n",
    "                #Create dataframe from tweets data\n",
    "\n",
    "#         df = pd.DataFrame(tweets, columns = [\"permalink\",\"pubdate\",\"text\",\"username\"])\n",
    "#         df['tweet_handle'] = user\n",
    "#         print(f\"Min date: {df['pubdate'].min()} , Max Date: {df['pubdate'].max()}\")\n",
    "#         print(\"Total data: \",len(df))\n",
    "#         if len(df) == 0 :\n",
    "#             continue\n",
    "\n",
    "#         # open a file, where you ant to store the data\n",
    "#         file = open(f\"data/df_tweet_{user}_{dates_range[dayCount].strftime('%Y-%m-%d')}\", 'wb')\n",
    "\n",
    "#         # dump information to that file\n",
    "#         pickle.dump(df, file)\n",
    "\n",
    "#         # close the file\n",
    "#         file.close()"
   ]
  },
  {
   "cell_type": "code",
   "execution_count": null,
   "metadata": {},
   "outputs": [],
   "source": []
  },
  {
   "cell_type": "code",
   "execution_count": null,
   "metadata": {},
   "outputs": [],
   "source": []
  },
  {
   "cell_type": "code",
   "execution_count": null,
   "metadata": {},
   "outputs": [],
   "source": []
  },
  {
   "cell_type": "markdown",
   "metadata": {},
   "source": [
    "### Loads DFs"
   ]
  },
  {
   "cell_type": "code",
   "execution_count": 47,
   "metadata": {
    "scrolled": true
   },
   "outputs": [
    {
     "name": "stdout",
     "output_type": "stream",
     "text": [
      "df_tweet_@kpdnhepjohor_2021-01-01\n",
      "df_tweet_@kpdnhepjohor_2021-01-15\n",
      "df_tweet_@kpdnhepjohor_2021-01-29\n",
      "df_tweet_@kpdnhepjohor_2021-02-12\n",
      "df_tweet_@kpdnhepjohor_2021-02-26\n",
      "df_tweet_@kpdnhepjohor_2021-03-12\n",
      "df_tweet_@kpdnhepjohor_2021-04-09\n",
      "df_tweet_@kpdnhepjohor_2021-04-23\n",
      "df_tweet_@kpdnhepjohor_2021-05-07\n",
      "df_tweet_@kpdnhepjohor_2021-05-21\n",
      "df_tweet_@kpdnhepjohor_2021-07-16\n",
      "df_tweet_@kpdnhepjohor_2021-08-13\n",
      "df_tweet_@KPDNHEPKelantan_2021-01-01\n",
      "df_tweet_@KPDNHEPKelantan_2021-01-15\n",
      "df_tweet_@KPDNHEPKelantan_2021-01-29\n",
      "df_tweet_@KPDNHEPKelantan_2021-02-12\n",
      "df_tweet_@KPDNHEPKelantan_2021-02-26\n",
      "df_tweet_@KPDNHEPKelantan_2021-03-12\n",
      "df_tweet_@KPDNHEPKelantan_2021-03-26\n",
      "df_tweet_@KPDNHEPKelantan_2021-04-09\n",
      "df_tweet_@KPDNHEPKelantan_2021-04-23\n",
      "df_tweet_@KPDNHEPKelantan_2021-05-07\n",
      "df_tweet_@KPDNHEPKelantan_2021-05-21\n",
      "df_tweet_@KPDNHEPKelantan_2021-06-04\n",
      "df_tweet_@KPDNHEPKelantan_2021-06-18\n",
      "df_tweet_@KPDNHEPKelantan_2021-07-02\n",
      "df_tweet_@KPDNHEPKelantan_2021-07-30\n",
      "df_tweet_@KPDNHEPKelantan_2021-08-27\n",
      "df_tweet_@KPDNHEPKelantan_2021-09-10\n",
      "df_tweet_@KpdnhepK_2021-04-23\n",
      "df_tweet_@KpdnhepK_2021-05-07\n",
      "df_tweet_@KpdnhepK_2021-06-04\n",
      "df_tweet_@KpdnhepM_2021-01-01\n",
      "df_tweet_@KpdnhepM_2021-01-15\n",
      "df_tweet_@KpdnhepM_2021-01-29\n",
      "df_tweet_@KpdnhepM_2021-02-26\n",
      "df_tweet_@KpdnhepM_2021-03-26\n",
      "df_tweet_@KpdnhepM_2021-04-09\n",
      "df_tweet_@KpdnhepM_2021-04-23\n",
      "df_tweet_@KpdnhepM_2021-07-02\n",
      "df_tweet_@KpdnhepM_2021-09-10\n",
      "df_tweet_@KPDNHEPPerak_2021-01-01\n",
      "df_tweet_@KPDNHEPPerak_2021-01-15\n",
      "df_tweet_@KPDNHEPPerak_2021-01-29\n",
      "df_tweet_@KPDNHEPPerak_2021-02-12\n",
      "df_tweet_@KPDNHEPPerak_2021-02-26\n",
      "df_tweet_@KPDNHEPPerak_2021-03-12\n",
      "df_tweet_@KPDNHEPPerak_2021-04-09\n",
      "df_tweet_@KPDNHEPPerak_2021-05-21\n",
      "df_tweet_@KPDNHEPPerak_2021-06-04\n",
      "df_tweet_@KPDNHEPPerak_2021-06-18\n",
      "df_tweet_@KPDNHEPPerak_2021-07-02\n",
      "df_tweet_@KPDNHEPPerak_2021-07-16\n",
      "df_tweet_@KPDNHEPPerak_2021-07-30\n",
      "df_tweet_@KPDNHEPPerak_2021-08-13\n",
      "df_tweet_@KPDNHEPPerak_2021-08-27\n",
      "df_tweet_@KPDNHEPPerak_2021-09-10\n",
      "df_tweet_@KpdnhepPP_2021-01-01\n",
      "df_tweet_@KpdnhepPP_2021-01-15\n",
      "df_tweet_@KpdnhepPP_2021-01-29\n",
      "df_tweet_@KpdnhepPP_2021-02-12\n",
      "df_tweet_@KpdnhepPP_2021-03-12\n",
      "df_tweet_@KpdnhepPP_2021-03-26\n",
      "df_tweet_@KpdnhepPP_2021-04-09\n",
      "df_tweet_@KpdnhepPP_2021-05-07\n",
      "df_tweet_@KpdnhepPP_2021-05-21\n",
      "df_tweet_@KpdnhepPP_2021-06-04\n",
      "df_tweet_@KpdnhepPP_2021-06-18\n",
      "df_tweet_@kpdnhepsabah_2021-01-29\n",
      "df_tweet_@kpdnhepsabah_2021-04-23\n",
      "df_tweet_@kpdnhepsabah_2021-08-27\n",
      "df_tweet_@kpdnheptrg_2021-01-01\n",
      "df_tweet_@kpdnheptrg_2021-01-15\n",
      "df_tweet_@kpdnheptrg_2021-01-29\n",
      "df_tweet_@kpdnheptrg_2021-02-12\n",
      "df_tweet_@kpdnheptrg_2021-03-12\n",
      "df_tweet_@kpdnheptrg_2021-03-26\n",
      "df_tweet_@kpdnheptrg_2021-04-09\n",
      "df_tweet_@kpdnheptrg_2021-04-23\n",
      "df_tweet_@kpdnheptrg_2021-07-16\n",
      "df_tweet_@kpdnheptrg_2021-07-30\n",
      "df_tweet_@kpdnheptrg_2021-08-27\n",
      "df_tweet_@kpdnhep_sabah_2021-01-29\n",
      "df_tweet_@kpdnhep_sabah_2021-04-09\n",
      "df_tweet_@kppmkpdnkk_2021-02-12\n",
      "df_tweet_@kppmkpdnkk_2021-03-26\n",
      "df_tweet_@kps_mykpdnhep_2021-03-26\n",
      "df_tweet_@kps_mykpdnhep_2021-04-09\n",
      "df_tweet_@kps_mykpdnhep_2021-04-23\n",
      "df_tweet_@kps_mykpdnhep_2021-06-04\n",
      "df_tweet_@labuan_kpdnhep_2021-07-30\n",
      "df_tweet_@labuan_kpdnhep_2021-09-10\n",
      "df_tweet_@negeri_mykpdnkk_2021-01-29\n",
      "df_tweet_@negeri_mykpdnkk_2021-06-04\n",
      "df_tweet_@negeri_mykpdnkk_2021-07-30\n",
      "df_tweet_@Nforceteam1_2021-01-01\n",
      "df_tweet_@Nforceteam1_2021-01-15\n",
      "df_tweet_@Nforceteam1_2021-01-29\n",
      "df_tweet_@Nforceteam1_2021-02-26\n",
      "df_tweet_@Nforceteam1_2021-04-09\n",
      "df_tweet_@Nforceteam1_2021-04-23\n",
      "df_tweet_@Nforceteam1_2021-06-18\n",
      "df_tweet_@Nforceteam1_2021-07-02\n",
      "df_tweet_@Nforceteam1_2021-08-13\n",
      "df_tweet_@penang_mykpdnkk_2021-01-15\n",
      "df_tweet_@penang_mykpdnkk_2021-04-09\n",
      "df_tweet_@penang_mykpdnkk_2021-07-16\n"
     ]
    }
   ],
   "source": [
    "dfAll = pd.DataFrame()\n",
    "for file in os.listdir('./data'):\n",
    "    print(file)\n",
    "    with open('./data/'+ file, 'rb') as f:\n",
    "        df = pickle.load(f)\n",
    "    dfAll = dfAll.append(df)"
   ]
  },
  {
   "cell_type": "code",
   "execution_count": 50,
   "metadata": {},
   "outputs": [
    {
     "name": "stdout",
     "output_type": "stream",
     "text": [
      "<class 'pandas.core.frame.DataFrame'>\n",
      "Int64Index: 1615 entries, 0 to 0\n",
      "Data columns (total 5 columns):\n",
      " #   Column        Non-Null Count  Dtype              \n",
      "---  ------        --------------  -----              \n",
      " 0   permalink     1615 non-null   object             \n",
      " 1   pubdate       1615 non-null   datetime64[ns, UTC]\n",
      " 2   text          1615 non-null   object             \n",
      " 3   username      1615 non-null   object             \n",
      " 4   tweet_handle  1615 non-null   object             \n",
      "dtypes: datetime64[ns, UTC](1), object(4)\n",
      "memory usage: 75.7+ KB\n"
     ]
    }
   ],
   "source": [
    "dfAll.info()"
   ]
  },
  {
   "cell_type": "code",
   "execution_count": 49,
   "metadata": {},
   "outputs": [],
   "source": [
    "dfAll.drop_duplicates(subset = ['text'], inplace = True)"
   ]
  },
  {
   "cell_type": "code",
   "execution_count": 52,
   "metadata": {},
   "outputs": [
    {
     "data": {
      "text/html": [
       "<div>\n",
       "<style scoped>\n",
       "    .dataframe tbody tr th:only-of-type {\n",
       "        vertical-align: middle;\n",
       "    }\n",
       "\n",
       "    .dataframe tbody tr th {\n",
       "        vertical-align: top;\n",
       "    }\n",
       "\n",
       "    .dataframe thead th {\n",
       "        text-align: right;\n",
       "    }\n",
       "</style>\n",
       "<table border=\"1\" class=\"dataframe\">\n",
       "  <thead>\n",
       "    <tr style=\"text-align: right;\">\n",
       "      <th></th>\n",
       "      <th>permalink</th>\n",
       "      <th>pubdate</th>\n",
       "      <th>text</th>\n",
       "      <th>username</th>\n",
       "      <th>tweet_handle</th>\n",
       "    </tr>\n",
       "  </thead>\n",
       "  <tbody>\n",
       "    <tr>\n",
       "      <th>0</th>\n",
       "      <td>https://twitter.com/kpdnhepjohor/status/1349584182180134913</td>\n",
       "      <td>2021-01-14 05:08:37+00:00</td>\n",
       "      <td>Johor Bahru,14 Januari 2021 (Khamis)- Program Foodbank KPDNHEP Johor .Sumbangan disampaikan oleh Pengarah KPDNHEP Johor dan diserahkan kepada Tuan Haji Abdul Rahman bin Salleh Pegawai Daerah Johor Bahru bagi membantu orang ramai yang terkesan akibat banjir di daerah Johor Bahru. https://t.co/ha36YXfIdp</td>\n",
       "      <td>kpdnhepjohor</td>\n",
       "      <td>@kpdnhepjohor</td>\n",
       "    </tr>\n",
       "    <tr>\n",
       "      <th>1</th>\n",
       "      <td>https://twitter.com/kpdnhepjohor/status/1349295397445881859</td>\n",
       "      <td>2021-01-13 10:01:06+00:00</td>\n",
       "      <td>Kluang,13 Januari 2021(Rabu)-Program Foodbank KPDNHEP Johor, sumbangan disampaikan oleh Pengarah KPDNHEP Johor dan diserahkan kepada Tuan Hj Ismail Bin Abu, Pegawai Daerah Kluang bagi membantu orang ramai yang terkesan akibat banjir di daerah Kluang.\\n\\nUnit Media\\nKPDNHEP Johor https://t.co/TtQvSd9uQV</td>\n",
       "      <td>kpdnhepjohor</td>\n",
       "      <td>@kpdnhepjohor</td>\n",
       "    </tr>\n",
       "    <tr>\n",
       "      <th>2</th>\n",
       "      <td>https://twitter.com/kpdnhepjohor/status/1348653986434306049</td>\n",
       "      <td>2021-01-11 15:32:21+00:00</td>\n",
       "      <td>Isnin,11 Januari 2021-Lawatan ke Johor Toyyiban Laboratories (JTLab) @ UTM-MTDC Technology Centre Technovation Park Skudai, Johor oleh YB Dr.Chong Fat Full YB Exco Perpaduan &amp;amp; Perdagangan Dalam Negeri,Tuan Mohd Hairul Anuar Bin Bohro Pengarah KPDNHEP Johor dan KPPN Johor https://t.co/g2IIiApelg</td>\n",
       "      <td>kpdnhepjohor</td>\n",
       "      <td>@kpdnhepjohor</td>\n",
       "    </tr>\n",
       "    <tr>\n",
       "      <th>3</th>\n",
       "      <td>https://twitter.com/kpdnhepjohor/status/1348299486422945792</td>\n",
       "      <td>2021-01-10 16:03:42+00:00</td>\n",
       "      <td>KENYATAAN MEDIA : PEMERIKSAAN  DAN KEDUDUKAN BEKALAN BARANG–BARANG KEPERLUAN DI  NEGERI  JOHOR\\n#KPDNHEPJOHOR https://t.co/sMc4cGavS9</td>\n",
       "      <td>kpdnhepjohor</td>\n",
       "      <td>@kpdnhepjohor</td>\n",
       "    </tr>\n",
       "    <tr>\n",
       "      <th>4</th>\n",
       "      <td>https://twitter.com/kpdnhepjohor/status/1347518599481544704</td>\n",
       "      <td>2021-01-08 12:20:44+00:00</td>\n",
       "      <td>HARGA RUNCIT PRODUK PETROLEUM (9 JANUARI 2021 HINGGA 15 JANUARI 2021)\\n\\n#KPDNHEP JOHOR https://t.co/DbuawqGkQL</td>\n",
       "      <td>kpdnhepjohor</td>\n",
       "      <td>@kpdnhepjohor</td>\n",
       "    </tr>\n",
       "  </tbody>\n",
       "</table>\n",
       "</div>"
      ],
      "text/plain": [
       "                                                     permalink  \\\n",
       "0  https://twitter.com/kpdnhepjohor/status/1349584182180134913   \n",
       "1  https://twitter.com/kpdnhepjohor/status/1349295397445881859   \n",
       "2  https://twitter.com/kpdnhepjohor/status/1348653986434306049   \n",
       "3  https://twitter.com/kpdnhepjohor/status/1348299486422945792   \n",
       "4  https://twitter.com/kpdnhepjohor/status/1347518599481544704   \n",
       "\n",
       "                    pubdate  \\\n",
       "0 2021-01-14 05:08:37+00:00   \n",
       "1 2021-01-13 10:01:06+00:00   \n",
       "2 2021-01-11 15:32:21+00:00   \n",
       "3 2021-01-10 16:03:42+00:00   \n",
       "4 2021-01-08 12:20:44+00:00   \n",
       "\n",
       "                                                                                                                                                                                                                                                                                                              text  \\\n",
       "0  Johor Bahru,14 Januari 2021 (Khamis)- Program Foodbank KPDNHEP Johor .Sumbangan disampaikan oleh Pengarah KPDNHEP Johor dan diserahkan kepada Tuan Haji Abdul Rahman bin Salleh Pegawai Daerah Johor Bahru bagi membantu orang ramai yang terkesan akibat banjir di daerah Johor Bahru. https://t.co/ha36YXfIdp   \n",
       "1  Kluang,13 Januari 2021(Rabu)-Program Foodbank KPDNHEP Johor, sumbangan disampaikan oleh Pengarah KPDNHEP Johor dan diserahkan kepada Tuan Hj Ismail Bin Abu, Pegawai Daerah Kluang bagi membantu orang ramai yang terkesan akibat banjir di daerah Kluang.\\n\\nUnit Media\\nKPDNHEP Johor https://t.co/TtQvSd9uQV   \n",
       "2      Isnin,11 Januari 2021-Lawatan ke Johor Toyyiban Laboratories (JTLab) @ UTM-MTDC Technology Centre Technovation Park Skudai, Johor oleh YB Dr.Chong Fat Full YB Exco Perpaduan &amp; Perdagangan Dalam Negeri,Tuan Mohd Hairul Anuar Bin Bohro Pengarah KPDNHEP Johor dan KPPN Johor https://t.co/g2IIiApelg   \n",
       "3                                                                                                                                                                            KENYATAAN MEDIA : PEMERIKSAAN  DAN KEDUDUKAN BEKALAN BARANG–BARANG KEPERLUAN DI  NEGERI  JOHOR\\n#KPDNHEPJOHOR https://t.co/sMc4cGavS9   \n",
       "4                                                                                                                                                                                                  HARGA RUNCIT PRODUK PETROLEUM (9 JANUARI 2021 HINGGA 15 JANUARI 2021)\\n\\n#KPDNHEP JOHOR https://t.co/DbuawqGkQL   \n",
       "\n",
       "       username   tweet_handle  \n",
       "0  kpdnhepjohor  @kpdnhepjohor  \n",
       "1  kpdnhepjohor  @kpdnhepjohor  \n",
       "2  kpdnhepjohor  @kpdnhepjohor  \n",
       "3  kpdnhepjohor  @kpdnhepjohor  \n",
       "4  kpdnhepjohor  @kpdnhepjohor  "
      ]
     },
     "execution_count": 52,
     "metadata": {},
     "output_type": "execute_result"
    }
   ],
   "source": [
    "dfAll.head()"
   ]
  },
  {
   "cell_type": "code",
   "execution_count": null,
   "metadata": {},
   "outputs": [],
   "source": []
  },
  {
   "cell_type": "code",
   "execution_count": null,
   "metadata": {},
   "outputs": [],
   "source": []
  },
  {
   "cell_type": "code",
   "execution_count": null,
   "metadata": {},
   "outputs": [],
   "source": []
  }
 ],
 "metadata": {
  "kernelspec": {
   "display_name": "Python 3 (ipykernel)",
   "language": "python",
   "name": "python3"
  },
  "language_info": {
   "codemirror_mode": {
    "name": "ipython",
    "version": 3
   },
   "file_extension": ".py",
   "mimetype": "text/x-python",
   "name": "python",
   "nbconvert_exporter": "python",
   "pygments_lexer": "ipython3",
   "version": "3.9.7"
  }
 },
 "nbformat": 4,
 "nbformat_minor": 4
}
